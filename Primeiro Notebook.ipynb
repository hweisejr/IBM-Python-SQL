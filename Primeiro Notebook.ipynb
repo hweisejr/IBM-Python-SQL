{
    "cells": [
        {
            "cell_type": "markdown",
            "metadata": {
                "collapsed": true
            },
            "source": "# Jupyter Notebook example on Watson Studio and GitHub integration"
        },
        {
            "cell_type": "markdown",
            "metadata": {},
            "source": "# Primeiro Notebook no Watson Studio e integra\u00e7\u00e3o com o Github"
        },
        {
            "cell_type": "markdown",
            "metadata": {},
            "source": "## ap\u00f3s gera\u00e7\u00e3o do token no Github e a vincula\u00e7\u00e3o do caminho do reposit\u00f3rio deve-se alterar o nome do branch de \u00b4main\u00b4para \u00b4master\u00b4 caso contr\u00e1rio o Watson mostra o erro \u00b4Master branch not found\u00b4"
        },
        {
            "cell_type": "code",
            "execution_count": null,
            "metadata": {},
            "outputs": [],
            "source": ""
        }
    ],
    "metadata": {
        "kernelspec": {
            "display_name": "Python 3.9",
            "language": "python",
            "name": "python3"
        },
        "language_info": {
            "codemirror_mode": {
                "name": "ipython",
                "version": 3
            },
            "file_extension": ".py",
            "mimetype": "text/x-python",
            "name": "python",
            "nbconvert_exporter": "python",
            "pygments_lexer": "ipython3",
            "version": "3.9.12"
        }
    },
    "nbformat": 4,
    "nbformat_minor": 1
}