{
    "cells": [
        {
            "cell_type": "markdown",
            "metadata": {
                "collapsed": true
            },
            "source": "# My Jupyter Notebook on IBM Watson Studio"
        },
        {
            "cell_type": "markdown",
            "metadata": {},
            "source": "**Helmuth Weise Jr**\nSupply Chain Analytics and Optimization"
        },
        {
            "cell_type": "markdown",
            "metadata": {},
            "source": "*I am interested in applying data science techniques and knowledge in Supply Chain analytics and optimization*"
        },
        {
            "cell_type": "markdown",
            "metadata": {},
            "source": "### Displaying the output of 1 + 1"
        },
        {
            "cell_type": "code",
            "execution_count": 5,
            "metadata": {},
            "outputs": [
                {
                    "data": {
                        "text/plain": "2"
                    },
                    "execution_count": 5,
                    "metadata": {},
                    "output_type": "execute_result"
                }
            ],
            "source": "1 + 1"
        },
        {
            "cell_type": "markdown",
            "metadata": {},
            "source": "- - -\n___\n***\n\n* Bullet list 1\n* Bullet list 2\n* Bullet list 3\n\n1. Numbered list A\n2. Numbered list B\n3. Numbered list C\n\nClick the link to go to Google (https://www.google.com)\n\n`print('Hello IBM')`\n\n```python\nout = print('syntax highlighting')\nprint out\n```"
        }
    ],
    "metadata": {
        "kernelspec": {
            "display_name": "Python 3.9",
            "language": "python",
            "name": "python3"
        },
        "language_info": {
            "codemirror_mode": {
                "name": "ipython",
                "version": 3
            },
            "file_extension": ".py",
            "mimetype": "text/x-python",
            "name": "python",
            "nbconvert_exporter": "python",
            "pygments_lexer": "ipython3",
            "version": "3.9.12"
        }
    },
    "nbformat": 4,
    "nbformat_minor": 1
}